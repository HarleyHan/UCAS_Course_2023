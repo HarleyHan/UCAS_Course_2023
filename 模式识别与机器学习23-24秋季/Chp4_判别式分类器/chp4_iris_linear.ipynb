{
 "cells": [
  {
   "cell_type": "markdown",
   "metadata": {},
   "source": [
    "## Iris鸢尾花分类\n",
    "KNN中，用10折交叉验证寻找最佳的K"
   ]
  },
  {
   "cell_type": "code",
   "execution_count": 1,
   "metadata": {
    "collapsed": true
   },
   "outputs": [],
   "source": [
    "import pandas as pd\n",
    "import numpy as np\n",
    "\n",
    "#KNN\n",
    "from sklearn.neighbors import KNeighborsClassifier\n",
    "\n",
    "# 模型性能的评价,本案例为分类问题，用正确率作为模型性能评价指标\n",
    "from sklearn.metrics import accuracy_score \n",
    "\n",
    "#作图\n",
    "import matplotlib.pyplot as plt \n",
    "import seaborn as sns\n",
    "%matplotlib inline\n",
    "\n",
    "#显示中文\n",
    "plt.rcParams['font.sans-serif'] = ['Arial Unicode MS']"
   ]
  },
  {
   "cell_type": "code",
   "execution_count": 2,
   "metadata": {
    "collapsed": false
   },
   "outputs": [
    {
     "data": {
      "text/html": [
       "<div>\n",
       "<style>\n",
       "    .dataframe thead tr:only-child th {\n",
       "        text-align: right;\n",
       "    }\n",
       "\n",
       "    .dataframe thead th {\n",
       "        text-align: left;\n",
       "    }\n",
       "\n",
       "    .dataframe tbody tr th {\n",
       "        vertical-align: top;\n",
       "    }\n",
       "</style>\n",
       "<table border=\"1\" class=\"dataframe\">\n",
       "  <thead>\n",
       "    <tr style=\"text-align: right;\">\n",
       "      <th></th>\n",
       "      <th>sepal-length</th>\n",
       "      <th>sepal-width</th>\n",
       "      <th>petal-length</th>\n",
       "      <th>petal-width</th>\n",
       "      <th>species</th>\n",
       "    </tr>\n",
       "  </thead>\n",
       "  <tbody>\n",
       "    <tr>\n",
       "      <th>0</th>\n",
       "      <td>5.1</td>\n",
       "      <td>3.5</td>\n",
       "      <td>1.4</td>\n",
       "      <td>0.2</td>\n",
       "      <td>Iris-setosa</td>\n",
       "    </tr>\n",
       "    <tr>\n",
       "      <th>1</th>\n",
       "      <td>4.9</td>\n",
       "      <td>3.0</td>\n",
       "      <td>1.4</td>\n",
       "      <td>0.2</td>\n",
       "      <td>Iris-setosa</td>\n",
       "    </tr>\n",
       "    <tr>\n",
       "      <th>2</th>\n",
       "      <td>4.7</td>\n",
       "      <td>3.2</td>\n",
       "      <td>1.3</td>\n",
       "      <td>0.2</td>\n",
       "      <td>Iris-setosa</td>\n",
       "    </tr>\n",
       "    <tr>\n",
       "      <th>3</th>\n",
       "      <td>4.6</td>\n",
       "      <td>3.1</td>\n",
       "      <td>1.5</td>\n",
       "      <td>0.2</td>\n",
       "      <td>Iris-setosa</td>\n",
       "    </tr>\n",
       "    <tr>\n",
       "      <th>4</th>\n",
       "      <td>5.0</td>\n",
       "      <td>3.6</td>\n",
       "      <td>1.4</td>\n",
       "      <td>0.2</td>\n",
       "      <td>Iris-setosa</td>\n",
       "    </tr>\n",
       "  </tbody>\n",
       "</table>\n",
       "</div>"
      ],
      "text/plain": [
       "   sepal-length  sepal-width  petal-length  petal-width      species\n",
       "0           5.1          3.5           1.4          0.2  Iris-setosa\n",
       "1           4.9          3.0           1.4          0.2  Iris-setosa\n",
       "2           4.7          3.2           1.3          0.2  Iris-setosa\n",
       "3           4.6          3.1           1.5          0.2  Iris-setosa\n",
       "4           5.0          3.6           1.4          0.2  Iris-setosa"
      ]
     },
     "execution_count": 2,
     "metadata": {},
     "output_type": "execute_result"
    }
   ],
   "source": [
    "#读取数据\n",
    "# csv文件没有列名，增加列名\n",
    "feat_names = ['sepal-length', 'sepal-width', 'petal-length', 'petal-width', 'species']\n",
    "\n",
    "dpath = \"./data/\"\n",
    "df = pd.read_csv(dpath + \"iris.csv\", names = feat_names)\n",
    "\n",
    "#通过观察前5行，了解数据每列（特征）的概况\n",
    "df.head()"
   ]
  },
  {
   "cell_type": "code",
   "execution_count": 3,
   "metadata": {
    "collapsed": false,
    "scrolled": false
   },
   "outputs": [
    {
     "name": "stdout",
     "output_type": "stream",
     "text": [
      "<class 'pandas.core.frame.DataFrame'>\n",
      "RangeIndex: 150 entries, 0 to 149\n",
      "Data columns (total 5 columns):\n",
      "sepal-length    150 non-null float64\n",
      "sepal-width     150 non-null float64\n",
      "petal-length    150 non-null float64\n",
      "petal-width     150 non-null float64\n",
      "species         150 non-null object\n",
      "dtypes: float64(4), object(1)\n",
      "memory usage: 5.9+ KB\n"
     ]
    }
   ],
   "source": [
    "# 数据总体信息\n",
    "df.info()"
   ]
  },
  {
   "cell_type": "code",
   "execution_count": 4,
   "metadata": {
    "collapsed": true
   },
   "outputs": [],
   "source": [
    "#标签字符串映射为整数（在此并不一定需要）\n",
    "target_map = {'Iris-setosa':0, \n",
    "              'Iris-versicolor':1,\n",
    "              'Iris-virginica':2 }  #2\n",
    "\n",
    "# Use the pandas apply method to numerically encode our attrition target variable\n",
    "df['species'] = df['species'].apply(lambda x: target_map[x])"
   ]
  },
  {
   "cell_type": "code",
   "execution_count": 11,
   "metadata": {
    "collapsed": true
   },
   "outputs": [],
   "source": [
    "# 从原始数据中分离输入特征x和输出y\n",
    "y = df['species']\n",
    "X = df.drop('species', axis = 1)"
   ]
  },
  {
   "cell_type": "code",
   "execution_count": null,
   "metadata": {
    "collapsed": true
   },
   "outputs": [],
   "source": [
    "#无需特征缩放\n",
    "#将数据分割训练数据与测试数据,分类数据，跳用分层采样\n",
    "from sklearn.model_selection import train_test_split\n",
    "\n",
    "# 随机采样20%的数据构建测试集，其余作为训练样本\n",
    "X_train, X_test, y_train, y_test = train_test_split( X, y, test_size=0.2, random_state=4, stratify=y ) "
   ]
  },
  {
   "cell_type": "code",
   "execution_count": null,
   "metadata": {
    "collapsed": true
   },
   "outputs": [],
   "source": []
  },
  {
   "cell_type": "markdown",
   "metadata": {},
   "source": [
    "### 2阶多项式特征"
   ]
  },
  {
   "cell_type": "code",
   "execution_count": 12,
   "metadata": {
    "collapsed": false,
    "scrolled": true
   },
   "outputs": [
    {
     "name": "stdout",
     "output_type": "stream",
     "text": [
      "   sepal-length  sepal-width  petal-length  petal-width  sepal-length^2  \\\n",
      "0           5.1          3.5           1.4          0.2           26.01   \n",
      "1           4.9          3.0           1.4          0.2           24.01   \n",
      "2           4.7          3.2           1.3          0.2           22.09   \n",
      "3           4.6          3.1           1.5          0.2           21.16   \n",
      "4           5.0          3.6           1.4          0.2           25.00   \n",
      "\n",
      "   sepal-length*sepal-width  sepal-length*petal-length  \\\n",
      "0                     17.85                       7.14   \n",
      "1                     14.70                       6.86   \n",
      "2                     15.04                       6.11   \n",
      "3                     14.26                       6.90   \n",
      "4                     18.00                       7.00   \n",
      "\n",
      "   sepal-length*petal-width  sepal-width^2  sepal-width*petal-length  \\\n",
      "0                      1.02          12.25                      4.90   \n",
      "1                      0.98           9.00                      4.20   \n",
      "2                      0.94          10.24                      4.16   \n",
      "3                      0.92           9.61                      4.65   \n",
      "4                      1.00          12.96                      5.04   \n",
      "\n",
      "   sepal-width*petal-width  petal-length^2  petal-length*petal-width  \\\n",
      "0                     0.70            1.96                      0.28   \n",
      "1                     0.60            1.96                      0.28   \n",
      "2                     0.64            1.69                      0.26   \n",
      "3                     0.62            2.25                      0.30   \n",
      "4                     0.72            1.96                      0.28   \n",
      "\n",
      "   petal-width^2  \n",
      "0           0.04  \n",
      "1           0.04  \n",
      "2           0.04  \n",
      "3           0.04  \n",
      "4           0.04  \n"
     ]
    }
   ],
   "source": [
    "from sklearn.preprocessing import PolynomialFeatures\n",
    "\n",
    "poly = PolynomialFeatures(degree=2, interaction_only=False, include_bias=False)\n",
    "X = poly.fit_transform(X)\n",
    "\n",
    "#print(X[:5])\n",
    "df_poly = pd.DataFrame(X, columns=['sepal-length', 'sepal-width', 'petal-length', 'petal-width',\n",
    "                                   'sepal-length^2', 'sepal-length*sepal-width', 'sepal-length*petal-length','sepal-length*petal-width',\n",
    "                                   'sepal-width^2',  'sepal-width*petal-length','sepal-width*petal-width',\n",
    "                                   'petal-length^2',  'petal-length*petal-width',\n",
    "                                   'petal-width^2'])\n",
    "print(df_poly.head())"
   ]
  },
  {
   "cell_type": "code",
   "execution_count": null,
   "metadata": {
    "collapsed": true
   },
   "outputs": [],
   "source": []
  }
 ],
 "metadata": {
  "kernelspec": {
   "display_name": "Python 2",
   "language": "python",
   "name": "python2"
  },
  "language_info": {
   "codemirror_mode": {
    "name": "ipython",
    "version": 2
   },
   "file_extension": ".py",
   "mimetype": "text/x-python",
   "name": "python",
   "nbconvert_exporter": "python",
   "pygments_lexer": "ipython2",
   "version": "2.7.13"
  }
 },
 "nbformat": 4,
 "nbformat_minor": 2
}
